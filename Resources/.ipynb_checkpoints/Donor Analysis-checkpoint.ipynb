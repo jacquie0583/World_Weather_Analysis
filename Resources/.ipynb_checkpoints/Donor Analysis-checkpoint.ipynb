{
 "cells": [
  {
   "cell_type": "code",
   "execution_count": 11,
   "id": "60e3b306",
   "metadata": {},
   "outputs": [
    {
     "data": {
      "text/html": [
       "<div>\n",
       "<style scoped>\n",
       "    .dataframe tbody tr th:only-of-type {\n",
       "        vertical-align: middle;\n",
       "    }\n",
       "\n",
       "    .dataframe tbody tr th {\n",
       "        vertical-align: top;\n",
       "    }\n",
       "\n",
       "    .dataframe thead th {\n",
       "        text-align: right;\n",
       "    }\n",
       "</style>\n",
       "<table border=\"1\" class=\"dataframe\">\n",
       "  <thead>\n",
       "    <tr style=\"text-align: right;\">\n",
       "      <th></th>\n",
       "      <th>LastName</th>\n",
       "      <th>FirstName</th>\n",
       "      <th>Employer</th>\n",
       "      <th>City</th>\n",
       "      <th>State</th>\n",
       "      <th>Zip</th>\n",
       "      <th>Amount</th>\n",
       "      <th>FIELD8</th>\n",
       "    </tr>\n",
       "  </thead>\n",
       "  <tbody>\n",
       "    <tr>\n",
       "      <th>0</th>\n",
       "      <td>Aaron</td>\n",
       "      <td>Eugene</td>\n",
       "      <td>State Department</td>\n",
       "      <td>Dulles</td>\n",
       "      <td>VA</td>\n",
       "      <td>20189</td>\n",
       "      <td>500.0</td>\n",
       "      <td>NaN</td>\n",
       "    </tr>\n",
       "    <tr>\n",
       "      <th>1</th>\n",
       "      <td>Abadi</td>\n",
       "      <td>Barbara</td>\n",
       "      <td>Abadi &amp; Co.</td>\n",
       "      <td>New York</td>\n",
       "      <td>NY</td>\n",
       "      <td>10021</td>\n",
       "      <td>200.0</td>\n",
       "      <td>NaN</td>\n",
       "    </tr>\n",
       "    <tr>\n",
       "      <th>2</th>\n",
       "      <td>Adamany</td>\n",
       "      <td>Anthony</td>\n",
       "      <td>Retired</td>\n",
       "      <td>Rockford</td>\n",
       "      <td>IL</td>\n",
       "      <td>61103</td>\n",
       "      <td>500.0</td>\n",
       "      <td>NaN</td>\n",
       "    </tr>\n",
       "    <tr>\n",
       "      <th>3</th>\n",
       "      <td>Adams</td>\n",
       "      <td>Lorraine</td>\n",
       "      <td>Self</td>\n",
       "      <td>New York</td>\n",
       "      <td>NY</td>\n",
       "      <td>10026</td>\n",
       "      <td>200.0</td>\n",
       "      <td>NaN</td>\n",
       "    </tr>\n",
       "    <tr>\n",
       "      <th>4</th>\n",
       "      <td>Adams</td>\n",
       "      <td>Marion</td>\n",
       "      <td>None</td>\n",
       "      <td>Exeter</td>\n",
       "      <td>NH</td>\n",
       "      <td>03833</td>\n",
       "      <td>100.0</td>\n",
       "      <td>NaN</td>\n",
       "    </tr>\n",
       "    <tr>\n",
       "      <th>...</th>\n",
       "      <td>...</td>\n",
       "      <td>...</td>\n",
       "      <td>...</td>\n",
       "      <td>...</td>\n",
       "      <td>...</td>\n",
       "      <td>...</td>\n",
       "      <td>...</td>\n",
       "      <td>...</td>\n",
       "    </tr>\n",
       "    <tr>\n",
       "      <th>1771</th>\n",
       "      <td>Zinczenko</td>\n",
       "      <td>David</td>\n",
       "      <td>Rodale</td>\n",
       "      <td>Allentown</td>\n",
       "      <td>PA</td>\n",
       "      <td>18102</td>\n",
       "      <td>500.0</td>\n",
       "      <td>NaN</td>\n",
       "    </tr>\n",
       "    <tr>\n",
       "      <th>1772</th>\n",
       "      <td>Zschiesche</td>\n",
       "      <td>Peter</td>\n",
       "      <td>NaN</td>\n",
       "      <td>San Diego</td>\n",
       "      <td>CA</td>\n",
       "      <td>92104</td>\n",
       "      <td>250.0</td>\n",
       "      <td>NaN</td>\n",
       "    </tr>\n",
       "    <tr>\n",
       "      <th>1773</th>\n",
       "      <td>Zweidinger</td>\n",
       "      <td>Ruth</td>\n",
       "      <td>NaN</td>\n",
       "      <td>Hillsborough</td>\n",
       "      <td>NC</td>\n",
       "      <td>27278</td>\n",
       "      <td>250.0</td>\n",
       "      <td>NaN</td>\n",
       "    </tr>\n",
       "    <tr>\n",
       "      <th>1774</th>\n",
       "      <td>Zwerdling</td>\n",
       "      <td>David</td>\n",
       "      <td>Montg Cnty, Md</td>\n",
       "      <td>Silver Spring</td>\n",
       "      <td>MD</td>\n",
       "      <td>20910</td>\n",
       "      <td>35.0</td>\n",
       "      <td>NaN</td>\n",
       "    </tr>\n",
       "    <tr>\n",
       "      <th>1775</th>\n",
       "      <td>Zyskind</td>\n",
       "      <td>Jon</td>\n",
       "      <td>JDS Uniphase</td>\n",
       "      <td>Concord</td>\n",
       "      <td>MA</td>\n",
       "      <td>10742</td>\n",
       "      <td>25.0</td>\n",
       "      <td>NaN</td>\n",
       "    </tr>\n",
       "  </tbody>\n",
       "</table>\n",
       "<p>1776 rows × 8 columns</p>\n",
       "</div>"
      ],
      "text/plain": [
       "        LastName FirstName          Employer           City State    Zip  \\\n",
       "0          Aaron    Eugene  State Department         Dulles    VA  20189   \n",
       "1          Abadi   Barbara       Abadi & Co.       New York    NY  10021   \n",
       "2        Adamany   Anthony           Retired       Rockford    IL  61103   \n",
       "3          Adams  Lorraine              Self       New York    NY  10026   \n",
       "4          Adams    Marion              None         Exeter    NH  03833   \n",
       "...          ...       ...               ...            ...   ...    ...   \n",
       "1771   Zinczenko     David            Rodale      Allentown    PA  18102   \n",
       "1772  Zschiesche     Peter               NaN      San Diego    CA  92104   \n",
       "1773  Zweidinger      Ruth               NaN   Hillsborough    NC  27278   \n",
       "1774   Zwerdling     David    Montg Cnty, Md  Silver Spring    MD  20910   \n",
       "1775     Zyskind       Jon      JDS Uniphase        Concord    MA  10742   \n",
       "\n",
       "      Amount  FIELD8  \n",
       "0      500.0     NaN  \n",
       "1      200.0     NaN  \n",
       "2      500.0     NaN  \n",
       "3      200.0     NaN  \n",
       "4      100.0     NaN  \n",
       "...      ...     ...  \n",
       "1771   500.0     NaN  \n",
       "1772   250.0     NaN  \n",
       "1773   250.0     NaN  \n",
       "1774    35.0     NaN  \n",
       "1775    25.0     NaN  \n",
       "\n",
       "[1776 rows x 8 columns]"
      ]
     },
     "execution_count": 11,
     "metadata": {},
     "output_type": "execute_result"
    }
   ],
   "source": [
    "# Add the Pandas dependency.\n",
    "import pandas as pd\n",
    "import os\n",
    "\n",
    "# Files to load\n",
    "donor_data_to_load = os.path.join(\"~/Desktop/Class Folder/Resources/donor_data.csv\")\n",
    "\n",
    "# Read the donor data file and store it in a Pandas DataFrame.\n",
    "donor_data_df = pd.read_csv(donor_data_to_load)\n",
    "donor_data_df"
   ]
  },
  {
   "cell_type": "code",
   "execution_count": 12,
   "id": "0920a7ae",
   "metadata": {},
   "outputs": [
    {
     "data": {
      "text/html": [
       "<div>\n",
       "<style scoped>\n",
       "    .dataframe tbody tr th:only-of-type {\n",
       "        vertical-align: middle;\n",
       "    }\n",
       "\n",
       "    .dataframe tbody tr th {\n",
       "        vertical-align: top;\n",
       "    }\n",
       "\n",
       "    .dataframe thead th {\n",
       "        text-align: right;\n",
       "    }\n",
       "</style>\n",
       "<table border=\"1\" class=\"dataframe\">\n",
       "  <thead>\n",
       "    <tr style=\"text-align: right;\">\n",
       "      <th></th>\n",
       "      <th>LastName</th>\n",
       "      <th>FirstName</th>\n",
       "      <th>Employer</th>\n",
       "      <th>City</th>\n",
       "      <th>State</th>\n",
       "      <th>Zip</th>\n",
       "      <th>Amount</th>\n",
       "      <th>FIELD8</th>\n",
       "    </tr>\n",
       "  </thead>\n",
       "  <tbody>\n",
       "  </tbody>\n",
       "</table>\n",
       "</div>"
      ],
      "text/plain": [
       "Empty DataFrame\n",
       "Columns: [LastName, FirstName, Employer, City, State, Zip, Amount, FIELD8]\n",
       "Index: []"
      ]
     },
     "execution_count": 12,
     "metadata": {},
     "output_type": "execute_result"
    }
   ],
   "source": [
    "# Drop the NaNs.\n",
    "donor_data_df.dropna()"
   ]
  },
  {
   "cell_type": "code",
   "execution_count": 13,
   "id": "e6880d80",
   "metadata": {},
   "outputs": [
    {
     "data": {
      "text/plain": [
       "LastName     1776\n",
       "FirstName    1776\n",
       "Employer     1743\n",
       "City         1776\n",
       "State        1776\n",
       "Zip          1776\n",
       "Amount       1776\n",
       "FIELD8          0\n",
       "dtype: int64"
      ]
     },
     "execution_count": 13,
     "metadata": {},
     "output_type": "execute_result"
    }
   ],
   "source": [
    "# Determine if there are any missing values in the doner data.\n",
    "donor_data_df.count()"
   ]
  },
  {
   "cell_type": "code",
   "execution_count": 14,
   "id": "0ff66710",
   "metadata": {},
   "outputs": [
    {
     "data": {
      "text/plain": [
       "<bound method NDFrame._add_numeric_operations.<locals>.sum of       LastName  FirstName  Employer   City  State    Zip  Amount  FIELD8\n",
       "0        False      False     False  False  False  False   False    True\n",
       "1        False      False     False  False  False  False   False    True\n",
       "2        False      False     False  False  False  False   False    True\n",
       "3        False      False     False  False  False  False   False    True\n",
       "4        False      False     False  False  False  False   False    True\n",
       "...        ...        ...       ...    ...    ...    ...     ...     ...\n",
       "1771     False      False     False  False  False  False   False    True\n",
       "1772     False      False      True  False  False  False   False    True\n",
       "1773     False      False      True  False  False  False   False    True\n",
       "1774     False      False     False  False  False  False   False    True\n",
       "1775     False      False     False  False  False  False   False    True\n",
       "\n",
       "[1776 rows x 8 columns]>"
      ]
     },
     "execution_count": 14,
     "metadata": {},
     "output_type": "execute_result"
    }
   ],
   "source": [
    "# Determine if there are any missing values in the school data.\n",
    "doner_data_df.isnull().sum"
   ]
  },
  {
   "cell_type": "code",
   "execution_count": 15,
   "id": "3313103f",
   "metadata": {},
   "outputs": [
    {
     "data": {
      "text/plain": [
       "LastName      object\n",
       "FirstName     object\n",
       "Employer      object\n",
       "City          object\n",
       "State         object\n",
       "Zip           object\n",
       "Amount       float64\n",
       "FIELD8       float64\n",
       "dtype: object"
      ]
     },
     "execution_count": 15,
     "metadata": {},
     "output_type": "execute_result"
    }
   ],
   "source": [
    "# Determine data types for the school DataFrame.\n",
    "donor_data_df.dtypes"
   ]
  },
  {
   "cell_type": "code",
   "execution_count": 18,
   "id": "b075c086",
   "metadata": {},
   "outputs": [
    {
     "data": {
      "text/plain": [
       "State\n",
       "VA    500.0\n",
       "NY    200.0\n",
       "IL    500.0\n",
       "NY    200.0\n",
       "NH    100.0\n",
       "      ...  \n",
       "PA    500.0\n",
       "CA    250.0\n",
       "NC    250.0\n",
       "MD     35.0\n",
       "MA     25.0\n",
       "Name: Amount, Length: 1776, dtype: float64"
      ]
     },
     "execution_count": 18,
     "metadata": {},
     "output_type": "execute_result"
    }
   ],
   "source": [
    "state_amount = donor_data_df.set_index([\"State\"])[\"Amount\"]\n",
    "state_amount"
   ]
  },
  {
   "cell_type": "code",
   "execution_count": 24,
   "id": "d42b063f",
   "metadata": {},
   "outputs": [
    {
     "data": {
      "text/plain": [
       "State\n",
       "AE     100.000000\n",
       "AK     175.000000\n",
       "AL     212.500000\n",
       "AP     200.000000\n",
       "AR     350.000000\n",
       "AZ     206.000000\n",
       "CA     685.234973\n",
       "CO     851.250000\n",
       "CT     825.714286\n",
       "DC     647.115385\n",
       "DE     190.000000\n",
       "FL     709.358974\n",
       "GA     842.307692\n",
       "HI     195.454545\n",
       "IA     600.000000\n",
       "ID     341.666667\n",
       "IL    1114.519231\n",
       "IN     225.000000\n",
       "KS     283.333333\n",
       "KY     735.000000\n",
       "LA     158.333333\n",
       "MA     750.714286\n",
       "MD     819.823529\n",
       "ME     211.111111\n",
       "MI     241.666667\n",
       "MN     697.000000\n",
       "MO     463.888889\n",
       "MS    1208.333333\n",
       "MT     200.000000\n",
       "NC     440.625000\n",
       "NE     183.333333\n",
       "NH     368.750000\n",
       "NJ     276.111111\n",
       "NM     298.913043\n",
       "NV     393.333333\n",
       "NY     910.829146\n",
       "OH     501.562500\n",
       "OK     200.000000\n",
       "OR     321.052632\n",
       "PA     896.755556\n",
       "QC     250.000000\n",
       "RI     700.000000\n",
       "SC     287.500000\n",
       "TN     257.142857\n",
       "TX     485.193182\n",
       "UT     200.000000\n",
       "VA     701.093465\n",
       "VI     225.000000\n",
       "VT     350.000000\n",
       "WA     399.537037\n",
       "WI     185.416667\n",
       "WV     183.333333\n",
       "WY     125.000000\n",
       "Name: Amount, dtype: float64"
      ]
     },
     "execution_count": 24,
     "metadata": {},
     "output_type": "execute_result"
    }
   ],
   "source": [
    "# Calculate the average math scores.\n",
    "averages_amount_by_state = donor_data_df.groupby([\"State\"]).mean()[\"Amount\"]\n",
    "averages_amount_by_state"
   ]
  },
  {
   "cell_type": "code",
   "execution_count": 25,
   "id": "47d33168",
   "metadata": {},
   "outputs": [
    {
     "ename": "TypeError",
     "evalue": "count() takes at least 1 argument (0 given)",
     "output_type": "error",
     "traceback": [
      "\u001b[1;31m---------------------------------------------\u001b[0m",
      "\u001b[1;31mTypeError\u001b[0m   Traceback (most recent call last)",
      "\u001b[1;32m<ipython-input-25-f161a03611a9>\u001b[0m in \u001b[0;36m<module>\u001b[1;34m\u001b[0m\n\u001b[1;32m----> 1\u001b[1;33m \u001b[1;34m\"Amount\"\u001b[0m\u001b[1;33m>\u001b[0m\u001b[1;34m\"750.00\"\u001b[0m\u001b[1;33m.\u001b[0m\u001b[0mcount\u001b[0m\u001b[1;33m(\u001b[0m\u001b[1;33m)\u001b[0m\u001b[1;33m\u001b[0m\u001b[1;33m\u001b[0m\u001b[0m\n\u001b[0m",
      "\u001b[1;31mTypeError\u001b[0m: count() takes at least 1 argument (0 given)"
     ]
    }
   ],
   "source": [
    "# \"Amount\">\"750.00\".count()"
   ]
  },
  {
   "cell_type": "code",
   "execution_count": 29,
   "id": "af07eb15",
   "metadata": {},
   "outputs": [
    {
     "data": {
      "text/plain": [
       "State\n",
       "AE       (0.0, 749.99]\n",
       "AK       (0.0, 749.99]\n",
       "AL       (0.0, 749.99]\n",
       "AP       (0.0, 749.99]\n",
       "AR       (0.0, 749.99]\n",
       "AZ       (0.0, 749.99]\n",
       "CA       (0.0, 749.99]\n",
       "CO    (751.0, 1208.33]\n",
       "CT    (751.0, 1208.33]\n",
       "DC       (0.0, 749.99]\n",
       "DE       (0.0, 749.99]\n",
       "FL       (0.0, 749.99]\n",
       "GA    (751.0, 1208.33]\n",
       "HI       (0.0, 749.99]\n",
       "IA       (0.0, 749.99]\n",
       "ID       (0.0, 749.99]\n",
       "IL    (751.0, 1208.33]\n",
       "IN       (0.0, 749.99]\n",
       "KS       (0.0, 749.99]\n",
       "KY       (0.0, 749.99]\n",
       "LA       (0.0, 749.99]\n",
       "MA      (750.0, 751.0]\n",
       "MD    (751.0, 1208.33]\n",
       "ME       (0.0, 749.99]\n",
       "MI       (0.0, 749.99]\n",
       "MN       (0.0, 749.99]\n",
       "MO       (0.0, 749.99]\n",
       "MS                 NaN\n",
       "MT       (0.0, 749.99]\n",
       "NC       (0.0, 749.99]\n",
       "NE       (0.0, 749.99]\n",
       "NH       (0.0, 749.99]\n",
       "NJ       (0.0, 749.99]\n",
       "NM       (0.0, 749.99]\n",
       "NV       (0.0, 749.99]\n",
       "NY    (751.0, 1208.33]\n",
       "OH       (0.0, 749.99]\n",
       "OK       (0.0, 749.99]\n",
       "OR       (0.0, 749.99]\n",
       "PA    (751.0, 1208.33]\n",
       "QC       (0.0, 749.99]\n",
       "RI       (0.0, 749.99]\n",
       "SC       (0.0, 749.99]\n",
       "TN       (0.0, 749.99]\n",
       "TX       (0.0, 749.99]\n",
       "UT       (0.0, 749.99]\n",
       "VA       (0.0, 749.99]\n",
       "VI       (0.0, 749.99]\n",
       "VT       (0.0, 749.99]\n",
       "WA       (0.0, 749.99]\n",
       "WI       (0.0, 749.99]\n",
       "WV       (0.0, 749.99]\n",
       "WY       (0.0, 749.99]\n",
       "Name: Amount, dtype: category\n",
       "Categories (4, interval[float64]): [(0.0, 749.99] < (749.99, 750.0] < (750.0, 751.0] < (751.0, 1208.33]]"
      ]
     },
     "execution_count": 29,
     "metadata": {},
     "output_type": "execute_result"
    }
   ],
   "source": [
    "amount_bins = [0, 749.99,750.00,751.00,1208.33]\n",
    "pd.cut(averages_amount_by_state, amount_bins)"
   ]
  },
  {
   "cell_type": "code",
   "execution_count": 30,
   "id": "485bbeee",
   "metadata": {},
   "outputs": [
    {
     "data": {
      "text/plain": [
       "Amount\n",
       "(0.0, 749.99]       44\n",
       "(749.99, 750.0]      0\n",
       "(750.0, 751.0]       1\n",
       "(751.0, 1208.33]     7\n",
       "Name: Amount, dtype: int64"
      ]
     },
     "execution_count": 30,
     "metadata": {},
     "output_type": "execute_result"
    }
   ],
   "source": [
    "# Cut the per_school_capita into the spending ranges.\n",
    "amount_bins = [0, 749.99,750.00,751.00,1208.33]\n",
    "averages_amount_by_state.groupby(pd.cut(averages_amount_by_state, amount_bins)).count()"
   ]
  },
  {
   "cell_type": "code",
   "execution_count": 31,
   "id": "849b0c14",
   "metadata": {},
   "outputs": [
    {
     "ename": "AttributeError",
     "evalue": "'tuple' object has no attribute 'append'",
     "output_type": "error",
     "traceback": [
      "\u001b[1;31m---------------------------------------------\u001b[0m",
      "\u001b[1;31mAttributeError\u001b[0mTraceback (most recent call last)",
      "\u001b[1;32m<ipython-input-31-72be960c98fd>\u001b[0m in \u001b[0;36m<module>\u001b[1;34m\u001b[0m\n\u001b[0;32m      1\u001b[0m \u001b[0mstudents\u001b[0m \u001b[1;33m=\u001b[0m \u001b[1;33m(\u001b[0m\u001b[1;34m\"Frank\"\u001b[0m\u001b[1;33m,\u001b[0m \u001b[1;34m\"Mary\"\u001b[0m\u001b[1;33m,\u001b[0m \u001b[1;34m\"Jasmine\"\u001b[0m\u001b[1;33m,\u001b[0m \u001b[1;34m\"Ivana\"\u001b[0m\u001b[1;33m,\u001b[0m \u001b[1;34m\"Ahmed\"\u001b[0m\u001b[1;33m)\u001b[0m\u001b[1;33m\u001b[0m\u001b[1;33m\u001b[0m\u001b[0m\n\u001b[1;32m----> 2\u001b[1;33m \u001b[0mstudents\u001b[0m\u001b[1;33m.\u001b[0m\u001b[0mappend\u001b[0m\u001b[1;33m(\u001b[0m\u001b[1;34m\"Serena\"\u001b[0m\u001b[1;33m)\u001b[0m\u001b[1;33m\u001b[0m\u001b[1;33m\u001b[0m\u001b[0m\n\u001b[0m\u001b[0;32m      3\u001b[0m \u001b[0mprint\u001b[0m\u001b[1;33m(\u001b[0m\u001b[0mstudents\u001b[0m\u001b[1;33m)\u001b[0m\u001b[1;33m\u001b[0m\u001b[1;33m\u001b[0m\u001b[0m\n",
      "\u001b[1;31mAttributeError\u001b[0m: 'tuple' object has no attribute 'append'"
     ]
    }
   ],
   "source": [
    "students = (\"Frank\", \"Mary\", \"Jasmine\", \"Ivana\", \"Ahmed\")\n",
    "students.append(\"Serena\")\n",
    "print(students)"
   ]
  },
  {
   "cell_type": "code",
   "execution_count": 1,
   "id": "1f85567f",
   "metadata": {},
   "outputs": [],
   "source": [
    "import requests\n",
    "url = \"https://api.spacexdata.com/v2/launchpads\""
   ]
  },
  {
   "cell_type": "code",
   "execution_count": null,
   "id": "9610b57d",
   "metadata": {},
   "outputs": [],
   "source": []
  }
 ],
 "metadata": {
  "kernelspec": {
   "display_name": "Python 3",
   "language": "python",
   "name": "python3"
  },
  "language_info": {
   "codemirror_mode": {
    "name": "ipython",
    "version": 3
   },
   "file_extension": ".py",
   "mimetype": "text/x-python",
   "name": "python",
   "nbconvert_exporter": "python",
   "pygments_lexer": "ipython3",
   "version": "3.8.8"
  }
 },
 "nbformat": 4,
 "nbformat_minor": 5
}
